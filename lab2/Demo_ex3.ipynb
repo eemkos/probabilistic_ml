{
 "cells": [
  {
   "cell_type": "code",
   "execution_count": 1,
   "metadata": {
    "collapsed": true
   },
   "outputs": [],
   "source": [
    "import numpy as np\n",
    "import itertools"
   ]
  },
  {
   "cell_type": "code",
   "execution_count": 2,
   "metadata": {
    "collapsed": true
   },
   "outputs": [],
   "source": [
    "nb_faculties = 9"
   ]
  },
  {
   "cell_type": "code",
   "execution_count": 17,
   "metadata": {
    "collapsed": true
   },
   "outputs": [],
   "source": [
    "#acceptance_chances=np.asarray([.01]*9)\n",
    "acceptance_chances = np.random.random(nb_faculties)\n",
    "rejection_chances = 1-acceptance_chances"
   ]
  },
  {
   "cell_type": "markdown",
   "metadata": {},
   "source": [
    "Now we have 9 acceptance chances.\n",
    "\n",
    "First thought: \n",
    "- let's feed them into multinomial distribution as probabilities of every possible outcome of random event, \n",
    "- there are 9 faculties so there should be 9 experiment trials in the multinomial\n",
    "\n",
    "**BUT:** It would mean that acceptances for faculties are mutually exclusive. **And for sure they're not.** It is possible to be accepted for 2, 3, ... or even 9 faculties at the same time.\n",
    "\n",
    "\n",
    "The problem can be described as:\n",
    " - 9 independent trials of different faculties admissions\n",
    " - each trial has different probability of success - so it follows an independent Bernoulli distribution\n",
    " \n",
    "Such distribution is the _Poisson Binomial Distribution_.\n",
    "\n",
    "It's pmf is given as:\n",
    "\n",
    "$$P\\big(K=k\\big) = \\sum_{A\\in F_k} \\Big(\\prod_{i\\in A}p_i \\prod_{j\\in A'} (1-p_j)\\Big)$$\n",
    "\n",
    "where:\n",
    "\n",
    "- $k$ is the number of successes in $n$ trials.\n",
    "- $F_k$ is a set of $k-$element subsets of the set of $n$ events. It represents the set of trials that were successful.\n",
    "- $A$ is a single $k-$element subset of events (Successful events). And $A'$ is a subset of all remaining events ($n-k$ Unsuccessful events).\n",
    "- $p_{i(j)}$ is a probability of success in the $i(j)-$th event."
   ]
  },
  {
   "cell_type": "markdown",
   "metadata": {},
   "source": [
    "# Solution methods"
   ]
  },
  {
   "cell_type": "code",
   "execution_count": 13,
   "metadata": {
    "collapsed": true
   },
   "outputs": [],
   "source": [
    "def exact_solution(nb_events, event_chances):\n",
    "    assert nb_events == len(event_chances)\n",
    "    return event_chances.prod()"
   ]
  },
  {
   "cell_type": "code",
   "execution_count": 14,
   "metadata": {
    "collapsed": true
   },
   "outputs": [],
   "source": [
    "def poisson_binomial(nb_successes, nb_trials, probabilities):\n",
    "    F_k = itertools.combinations(range(nb_trials), nb_successes)\n",
    "    prob_sum = 0\n",
    "    for sbset in F_k:\n",
    "        prob_prod = 1\n",
    "        for i in range(nb_trials):\n",
    "            if i in sbset:\n",
    "                prob_prod *= probabilities[i]\n",
    "            else:\n",
    "                prob_prod *= (1-probabilities[i])\n",
    "        prob_sum += prob_prod\n",
    "    return prob_sum"
   ]
  },
  {
   "cell_type": "markdown",
   "metadata": {},
   "source": [
    "# Solutions"
   ]
  },
  {
   "cell_type": "markdown",
   "metadata": {},
   "source": [
    "Exact - Probability of all rejected:"
   ]
  },
  {
   "cell_type": "code",
   "execution_count": 32,
   "metadata": {},
   "outputs": [
    {
     "name": "stdout",
     "output_type": "stream",
     "text": [
      "3.81469726563e-06\n"
     ]
    }
   ],
   "source": [
    "print(exact_solution(nb_faculties, rejection_chances))"
   ]
  },
  {
   "cell_type": "markdown",
   "metadata": {},
   "source": [
    "Exact - Probability of all accepted:"
   ]
  },
  {
   "cell_type": "code",
   "execution_count": 33,
   "metadata": {},
   "outputs": [
    {
     "name": "stdout",
     "output_type": "stream",
     "text": [
      "0.0750846862793\n"
     ]
    }
   ],
   "source": [
    "print(exact_solution(nb_faculties, acceptance_chances))"
   ]
  },
  {
   "cell_type": "markdown",
   "metadata": {},
   "source": [
    "Poisson Binomial - probability of 1 accepted:"
   ]
  },
  {
   "cell_type": "code",
   "execution_count": 51,
   "metadata": {},
   "outputs": [
    {
     "data": {
      "text/plain": [
       "0.000102996826171875"
      ]
     },
     "execution_count": 51,
     "metadata": {},
     "output_type": "execute_result"
    }
   ],
   "source": [
    "poisson_binomial(1, nb_faculties, acceptance_chances)"
   ]
  },
  {
   "cell_type": "markdown",
   "metadata": {},
   "source": [
    "Poisson Binomial - probability of all accepted"
   ]
  },
  {
   "cell_type": "code",
   "execution_count": 35,
   "metadata": {},
   "outputs": [
    {
     "data": {
      "text/plain": [
       "0.075084686279296875"
      ]
     },
     "execution_count": 35,
     "metadata": {},
     "output_type": "execute_result"
    }
   ],
   "source": [
    "poisson_binomial(nb_faculties, nb_faculties, acceptance_chances)"
   ]
  },
  {
   "cell_type": "code",
   "execution_count": 31,
   "metadata": {
    "collapsed": true
   },
   "outputs": [],
   "source": [
    "acceptance_chances = np.asarray([.75]*9)\n",
    "rejection_chances = 1-acceptance_chances"
   ]
  },
  {
   "cell_type": "code",
   "execution_count": null,
   "metadata": {
    "collapsed": true
   },
   "outputs": [],
   "source": []
  }
 ],
 "metadata": {
  "kernelspec": {
   "display_name": "Python 3",
   "language": "python",
   "name": "python3"
  },
  "language_info": {
   "codemirror_mode": {
    "name": "ipython",
    "version": 3
   },
   "file_extension": ".py",
   "mimetype": "text/x-python",
   "name": "python",
   "nbconvert_exporter": "python",
   "pygments_lexer": "ipython3",
   "version": "3.6.3"
  },
  "toc": {
   "nav_menu": {},
   "number_sections": true,
   "sideBar": true,
   "skip_h1_title": false,
   "toc_cell": false,
   "toc_position": {},
   "toc_section_display": "block",
   "toc_window_display": false
  }
 },
 "nbformat": 4,
 "nbformat_minor": 2
}
