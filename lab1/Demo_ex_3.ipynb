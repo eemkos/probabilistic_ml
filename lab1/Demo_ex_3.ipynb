{
 "cells": [
  {
   "cell_type": "markdown",
   "metadata": {},
   "source": [
    "# Intro"
   ]
  },
  {
   "cell_type": "markdown",
   "metadata": {},
   "source": [
    "## What is given?"
   ]
  },
  {
   "cell_type": "markdown",
   "metadata": {},
   "source": [
    "Symbols\n",
    "$$\n",
    "S \\rightarrow \\text{Random Event - Person is Sick}\\\\\n",
    "T \\rightarrow \\text{Random Event - Test result Positive}\\\\\n",
    "N_s \\rightarrow \\text{number of people sick in a 50 000 people population}\n",
    "\\\\\n",
    "$$\n",
    "\n",
    "What we know about the desease:\n",
    "\n",
    "$$\n",
    "P(S=1) = \\frac{N_s}{50\\ 000}\\\\\n",
    "\\text{where: } N_s \\in [1, 2, 3, ..., 100]\n",
    "$$\n",
    "\n",
    "We know that:\n",
    "\n",
    "$$\n",
    "P(T=1\\ |\\ S=0) = 0.02\\\\\n",
    "P(T=0\\ |\\ S=1) = 0.01\n",
    "$$"
   ]
  },
  {
   "cell_type": "markdown",
   "metadata": {},
   "source": [
    "## What we want to acheive?"
   ]
  },
  {
   "cell_type": "markdown",
   "metadata": {},
   "source": [
    "$$\n",
    "P(S = 1\\ |\\ T=1) = ?\n",
    "$$"
   ]
  },
  {
   "cell_type": "markdown",
   "metadata": {},
   "source": [
    "## How will it be acheived?"
   ]
  },
  {
   "cell_type": "markdown",
   "metadata": {},
   "source": [
    "1. Using conditional probability:\n",
    "$$\n",
    "P(A\\ |\\ B) = \\frac{P(A \\cap B)}{P(B)}\n",
    "$$\n",
    "And law of total probability:\n",
    "$$P(A) = \\sum_n{P(A \\cap B_n)} = \\sum_n{P(A\\ |\\ B_n)P(B_n)}$$\n",
    "or\n",
    "$$\n",
    "P(A) = P(A\\ |\\ B)P(B) + P(A\\ |\\ B')P(B')\\\\\\ \n",
    "$$\n",
    "\n",
    "2. Using Bayes Theorem:\n",
    "$$\n",
    "P(A\\ |\\ B) = \\frac{P(B\\ |\\ A)P(A)}{P(B)}\n",
    "$$"
   ]
  },
  {
   "cell_type": "markdown",
   "metadata": {},
   "source": [
    "## Calculations"
   ]
  },
  {
   "cell_type": "markdown",
   "metadata": {},
   "source": [
    "From Bayes Theorem:\n",
    "$$\n",
    "P\\big(S=1\\ \\big|\\ T=1\\big) = \\frac{P\\big(T=1\\ \\big|\\ S=1\\big)\\ P\\big(S=1\\big)}{P\\big(T=1\\big)}\n",
    "$$\n",
    "where\n",
    "\n",
    "$\n",
    "P\\big(S=1\\big) = \\frac{N_s}{50\\ 000}\\ \\ \\ \\small{\\text{(}N_s\\text{ is a parameter)}}\\\\\n",
    "P\\big(T=1\\big) = P\\big(T=1\\ \\big|\\ S=1\\big)P\\big(\\ S=1\\big) + P\\big(T=1\\ \\big|\\ S=0\\big)P\\big(S=0\\big)\\ \\ \\ \\tiny{\\textit{from Law of total probability}}\n",
    "$\n",
    "\n",
    "where\n",
    "\n",
    "$\n",
    "P\\big(T=1\\ \\big|\\ S=0\\big) = 0.02 \\ \\ \\ \\small{\\text{as was given}}\n",
    "$\n",
    "\n",
    "and\n",
    "\n",
    "$\n",
    "P\\big(T=1\\ \\big|\\ S=1\\big) \\text{ will be calculated as:}\\\\\n",
    "$\n",
    "\n",
    "$\n",
    "P\\big(T=1\\ \\big|\\ S=1\\big) = 1 - P\\big(T=0\\ \\big|\\ S=1\\big) \\ \\ \\ \\small{\\text{where }P\\big(T=0\\ \\big|\\ S=1\\big)\\ \\text{ was given as 0.01)}}\\\\\n",
    "$\n",
    "\n",
    "Because:\n",
    "\n",
    "$\n",
    "P\\big(T=1\\ \\big|\\ S=1\\big) + P\\big(T=0\\ \\big|\\ S=1\\big) = P\\Big(\\big(T=0 \\cup T=1\\big)\\ \\big|\\ S=1\\Big) = 1\n",
    "$\n",
    "\n",
    "Then\n",
    "\n",
    "$\n",
    "P\\big(T=1\\ \\big|\\ S=1\\big) = \\frac{\\text{number of correct positive test results}}{\\text{number of sick people in population}}\n",
    "$\n",
    "\n",
    "## Eureka!"
   ]
  },
  {
   "cell_type": "markdown",
   "metadata": {},
   "source": [
    "# Code"
   ]
  },
  {
   "cell_type": "code",
   "execution_count": 2,
   "metadata": {
    "collapsed": true
   },
   "outputs": [],
   "source": [
    "import numpy as np\n",
    "import seaborn as sbn\n",
    "from matplotlib import pyplot as plt"
   ]
  },
  {
   "cell_type": "markdown",
   "metadata": {},
   "source": [
    "## Probabilistic functions"
   ]
  },
  {
   "cell_type": "code",
   "execution_count": 3,
   "metadata": {
    "collapsed": true
   },
   "outputs": [],
   "source": [
    "def bayes_theorem(p_b_a, p_a, p_b):\n",
    "    return p_b_a * p_a / p_b"
   ]
  },
  {
   "cell_type": "code",
   "execution_count": 4,
   "metadata": {
    "collapsed": true
   },
   "outputs": [],
   "source": [
    "def law_of_total_prob(p_a_b, p_b, p_a_b_prime, p_b_prime):\n",
    "    return p_a_b * p_b + p_a_b_prime * p_b_prime"
   ]
  },
  {
   "cell_type": "code",
   "execution_count": 5,
   "metadata": {
    "collapsed": true
   },
   "outputs": [],
   "source": [
    "Proba = {\n",
    "         ('positive', 'healthy'): 0.02,\n",
    "         ('negative', 'sick'): 0.01,\n",
    "        }"
   ]
  },
  {
   "cell_type": "markdown",
   "metadata": {},
   "source": [
    "## Task/Simulation Calculation"
   ]
  },
  {
   "cell_type": "markdown",
   "metadata": {},
   "source": [
    "### Algorithm"
   ]
  },
  {
   "cell_type": "code",
   "execution_count": 6,
   "metadata": {
    "collapsed": true
   },
   "outputs": [],
   "source": [
    "def calculate_probabs(nb_sick, population_size, p_pos_heal=0.02, p_neg_sick=0.01):\n",
    "    P = {\n",
    "         ('positive', 'healthy'): p_pos_heal,\n",
    "         ('negative', 'sick'): p_neg_sick,\n",
    "        }\n",
    "    \n",
    "    P['sick'] = nb_sick / population_size\n",
    "    P['healthy'] = 1 - P['sick']\n",
    "\n",
    "    P['positive', 'sick'] = 1 - P['negative', 'sick']\n",
    "    P['negative', 'healthy'] = 1 - P['positive','healthy']\n",
    "\n",
    "    P['positive'] = law_of_total_prob(P['positive','healthy'], \n",
    "                                      P['healthy'], \n",
    "                                      P['positive', 'sick'], \n",
    "                                      P['sick'])\n",
    "    \n",
    "    P['sick','positive'] = bayes_theorem(P['positive','sick'], P['sick'], \n",
    "                                         P['positive'])\n",
    "    \n",
    "    # All the rest - for fun!\n",
    "    P['healthy','positive'] = bayes_theorem(P['positive','healthy'], P['healthy'], \n",
    "                                         P['positive'])\n",
    "    \n",
    "    P['negative'] = law_of_total_prob(P['negative','healthy'], \n",
    "                                      P['healthy'], \n",
    "                                      P['negative', 'sick'], \n",
    "                                      P['sick'])\n",
    "    \n",
    "    P['sick','negative'] = bayes_theorem(P['negative','sick'], P['sick'], \n",
    "                                         P['negative'])\n",
    "    P['healthy','negative'] = bayes_theorem(P['negative','healthy'], P['healthy'], \n",
    "                                            P['negative'])\n",
    "    return P"
   ]
  },
  {
   "cell_type": "markdown",
   "metadata": {},
   "source": [
    "### Calculation"
   ]
  },
  {
   "cell_type": "code",
   "execution_count": 11,
   "metadata": {
    "collapsed": true
   },
   "outputs": [],
   "source": [
    "pop_size = 50000\n",
    "nbs_sick = np.asarray(range(0, pop_size+1))\n",
    "res = np.asarray([calculate_probabs(s, pop_size)['sick','positive'] for s in nbs_sick])"
   ]
  },
  {
   "cell_type": "markdown",
   "metadata": {},
   "source": [
    "### Visualisation"
   ]
  },
  {
   "cell_type": "code",
   "execution_count": 8,
   "metadata": {},
   "outputs": [
    {
     "data": {
      "image/png": "[encoded data removed]",
      "text/plain": [
       "<matplotlib.figure.Figure at 0x1d3daf38a90>"
      ]
     },
     "metadata": {},
     "output_type": "display_data"
    }
   ],
   "source": [
    "plt.figure(figsize=(18,9))\n",
    "plt.ylabel('P(Sick=1 | Positive=1)', size=25)\n",
    "plt.xlabel('Number of sick people in a population of size %d'%pop_size, \n",
    "           size=25)\n",
    "plt.scatter(nbs_sick, res, s=0.001)\n",
    "plt.show()"
   ]
  },
  {
   "cell_type": "code",
   "execution_count": 52,
   "metadata": {},
   "outputs": [
    {
     "data": {
      "image/png": "[encoded data removed]",
      "text/plain": [
       "<matplotlib.figure.Figure at 0x22938b6fbe0>"
      ]
     },
     "metadata": {},
     "output_type": "display_data"
    }
   ],
   "source": [
    "plt.figure(figsize=(18,9))\n",
    "plt.ylabel('P(Sick=1 | Positive=1)', size=25)\n",
    "plt.xlabel('Number of sick people in a population of size %d'%pop_size, \n",
    "           size=25)\n",
    "plt.scatter(nbs_sick[:100], res[:100], s=1)\n",
    "plt.show()"
   ]
  },
  {
   "cell_type": "code",
   "execution_count": 29,
   "metadata": {},
   "outputs": [
    {
     "data": {
      "text/plain": [
       "[<matplotlib.lines.Line2D at 0x1d3dbafb710>]"
      ]
     },
     "execution_count": 29,
     "metadata": {},
     "output_type": "execute_result"
    },
    {
     "data": {
      "image/png": "[encoded data removed]",
      "text/plain": [
       "<matplotlib.figure.Figure at 0x1d3dbaa07f0>"
      ]
     },
     "metadata": {},
     "output_type": "display_data"
    }
   ],
   "source": [
    "dta = np.asarray([ n/50000 for n in range(50000)])\n",
    "a = 0.25\n",
    "plt.plot(a*dta/(a*dta + (1-a)*(1-dta)))"
   ]
  },
  {
   "cell_type": "code",
   "execution_count": null,
   "metadata": {
    "collapsed": true
   },
   "outputs": [],
   "source": []
  }
 ],
 "metadata": {
  "kernelspec": {
   "display_name": "Python 3",
   "language": "python",
   "name": "python3"
  },
  "language_info": {
   "codemirror_mode": {
    "name": "ipython",
    "version": 3
   },
   "file_extension": ".py",
   "mimetype": "text/x-python",
   "name": "python",
   "nbconvert_exporter": "python",
   "pygments_lexer": "ipython3",
   "version": "3.6.3"
  },
  "toc": {
   "nav_menu": {},
   "number_sections": true,
   "sideBar": true,
   "skip_h1_title": false,
   "toc_cell": false,
   "toc_position": {},
   "toc_section_display": "block",
   "toc_window_display": false
  }
 },
 "nbformat": 4,
 "nbformat_minor": 2
}
