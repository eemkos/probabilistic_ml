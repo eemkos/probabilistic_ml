{
 "cells": [
  {
   "cell_type": "code",
   "execution_count": 11,
   "metadata": {},
   "outputs": [],
   "source": [
    "from imad_nb.src.naive_bayes import NaiveBayes, GaussianNaiveBayes, MixedNaiveBayes\n",
    "import pandas as pd\n",
    "import numpy as np\n",
    "from imad_nb.src.evaluators import MetricsEvaluator\n",
    "from numbers import Number\n",
    "\n",
    "\n",
    "import warnings\n",
    "warnings.filterwarnings(\"ignore\")"
   ]
  },
  {
   "cell_type": "markdown",
   "metadata": {},
   "source": [
    "# Data Preparation"
   ]
  },
  {
   "cell_type": "code",
   "execution_count": 27,
   "metadata": {},
   "outputs": [],
   "source": [
    "def download_data(data_name):\n",
    "    if data_name=='abalone':\n",
    "        columns = ['Sex', 'Length', 'Diameter', 'Height', 'Whole weight', 'Shucked weight', 'Viscera weight', 'Shell weight','Class']\n",
    "        data = pd.read_csv('https://archive.ics.uci.edu/ml/machine-learning-databases/abalone/abalone.data', \n",
    "                           names=columns)\n",
    "    if data_name == 'balance':\n",
    "        columns = ['Class', 'LeftWeight', 'LeftDist', 'RightWeight', 'RightDist']\n",
    "        data = pd.read_csv('https://archive.ics.uci.edu/ml/machine-learning-databases/balance-scale/balance-scale.data',\n",
    "                           names=columns)\n",
    " \n",
    "    data.Class = data.Class.factorize()[0]\n",
    "    return data"
   ]
  },
  {
   "cell_type": "code",
   "execution_count": 32,
   "metadata": {},
   "outputs": [],
   "source": [
    "DATASET = 'balance'\n",
    "#DATASET = 'abalone'"
   ]
  },
  {
   "cell_type": "code",
   "execution_count": 69,
   "metadata": {},
   "outputs": [
    {
     "name": "stdout",
     "output_type": "stream",
     "text": [
      "625\n",
      "['Class', 'LeftWeight', 'LeftDist', 'RightWeight', 'RightDist']\n"
     ]
    }
   ],
   "source": [
    "data = download_data(DATASET)\n",
    "data = data.sample(frac=1)\n",
    "columns = list(data.columns)\n",
    "print(len(data))\n",
    "print(columns)\n",
    "#data.Class = (data.Class/3).astype(int)"
   ]
  },
  {
   "cell_type": "code",
   "execution_count": 70,
   "metadata": {},
   "outputs": [
    {
     "name": "stdout",
     "output_type": "stream",
     "text": [
      "513 , 113 3\n"
     ]
    }
   ],
   "source": [
    "split = int(.8*len(data))\n",
    "train_data = data.loc[:split,:]\n",
    "test_data = data.loc[split:,:]\n",
    "\n",
    "print(len(train_data),',', len(test_data), data.Class.nunique())"
   ]
  },
  {
   "cell_type": "markdown",
   "metadata": {},
   "source": [
    "# Naive Bayes prep + training"
   ]
  },
  {
   "cell_type": "code",
   "execution_count": 71,
   "metadata": {},
   "outputs": [
    {
     "name": "stdout",
     "output_type": "stream",
     "text": [
      "dropped non numeric columns\n"
     ]
    }
   ],
   "source": [
    "#naivebayes = NaiveBayes(zero_frequency_fill=True)\n",
    "naivebayes = GaussianNaiveBayes()\n",
    "\n",
    "\n",
    "#naivebayes = (MixedNaiveBayes([1,2,3,4,5,6,7], True) \n",
    "#              if DATASET is 'abalone' else NaiveBayes(True))\n",
    "\n",
    "if type(naivebayes)==GaussianNaiveBayes:\n",
    "    columns = [c for c in columns if isinstance(data.loc[0,c], Number)]\n",
    "    train_data = train_data[columns]\n",
    "    test_data = test_data[columns]\n",
    "    data = data[columns]\n",
    "    print('dropped non numeric columns')\n",
    "\n",
    "naivebayes.train(train_data[[c for c in columns if c is not 'Class']].values, \n",
    "                 train_data['Class'].values)"
   ]
  },
  {
   "cell_type": "code",
   "execution_count": 72,
   "metadata": {},
   "outputs": [],
   "source": [
    "train_metrics = MetricsEvaluator(train_data[[c for c in columns if c is not 'Class']].values, \n",
    "                                 train_data['Class'].values, \n",
    "                                 naivebayes, data.Class.nunique())\n",
    "test_metrics = MetricsEvaluator(test_data[[c for c in columns if c is not 'Class']].values, \n",
    "                                test_data['Class'].values, \n",
    "                                naivebayes, data.Class.nunique())"
   ]
  },
  {
   "cell_type": "code",
   "execution_count": 73,
   "metadata": {},
   "outputs": [
    {
     "name": "stdout",
     "output_type": "stream",
     "text": [
      "Accuracy:\t 0.910331384016\n",
      "Precision:\t 0.839531926563\n",
      "Recall :\t 0.910331384016\n",
      "Fmeasure:\t 0.873451789157\n"
     ]
    }
   ],
   "source": [
    "print('Accuracy:\\t', train_metrics.accuracy())\n",
    "print('Precision:\\t', train_metrics.precision())\n",
    "print('Recall :\\t', train_metrics.recall())\n",
    "print('Fmeasure:\\t', train_metrics.f_measure())"
   ]
  },
  {
   "cell_type": "code",
   "execution_count": 74,
   "metadata": {},
   "outputs": [
    {
     "name": "stdout",
     "output_type": "stream",
     "text": [
      "Accuracy:\t 0.902654867257\n",
      "Precision:\t 0.832651318562\n",
      "Recall :\t 0.902654867257\n",
      "Fmeasure:\t 0.865758904068\n"
     ]
    }
   ],
   "source": [
    "print('Accuracy:\\t', test_metrics.accuracy())\n",
    "print('Precision:\\t', test_metrics.precision())\n",
    "print('Recall :\\t', test_metrics.recall())\n",
    "print('Fmeasure:\\t', test_metrics.f_measure())"
   ]
  },
  {
   "cell_type": "code",
   "execution_count": 75,
   "metadata": {},
   "outputs": [
    {
     "data": {
      "text/plain": [
       "<matplotlib.axes._subplots.AxesSubplot at 0x1f81dc46390>"
      ]
     },
     "execution_count": 75,
     "metadata": {},
     "output_type": "execute_result"
    },
    {
     "data": {
      "image/png": "[encoded data removed]",
      "text/plain": [
       "<matplotlib.figure.Figure at 0x1f81c8c9198>"
      ]
     },
     "metadata": {},
     "output_type": "display_data"
    }
   ],
   "source": [
    "test_metrics.pdml_confusion_matrix().plot()"
   ]
  },
  {
   "cell_type": "code",
   "execution_count": 77,
   "metadata": {},
   "outputs": [],
   "source": [
    "if DATASET is 'abalone':\n",
    "    pred_test = naivebayes.predict(test_data[[c for c in columns if c is not 'Class']].values)\n",
    "    np.sum(np.isclose(pred_test, test_data.Class.values, atol=2))/len(pred_test)"
   ]
  },
  {
   "cell_type": "code",
   "execution_count": null,
   "metadata": {},
   "outputs": [],
   "source": []
  }
 ],
 "metadata": {
  "kernelspec": {
   "display_name": "Python 3",
   "language": "python",
   "name": "python3"
  },
  "language_info": {
   "codemirror_mode": {
    "name": "ipython",
    "version": 3
   },
   "file_extension": ".py",
   "mimetype": "text/x-python",
   "name": "python",
   "nbconvert_exporter": "python",
   "pygments_lexer": "ipython3",
   "version": "3.6.3"
  },
  "toc": {
   "nav_menu": {},
   "number_sections": true,
   "sideBar": true,
   "skip_h1_title": false,
   "toc_cell": false,
   "toc_position": {},
   "toc_section_display": "block",
   "toc_window_display": false
  }
 },
 "nbformat": 4,
 "nbformat_minor": 2
}
