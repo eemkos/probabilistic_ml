{
 "cells": [
  {
   "cell_type": "code",
   "execution_count": 70,
   "metadata": {},
   "outputs": [],
   "source": [
    "import numpy as np\n",
    "from collections import OrderedDict\n",
    "import math\n",
    "\n",
    "from estimates_calculations import Concept#, likelihood, posteriors, \n",
    "from concepts_database import gen_base_concepts"
   ]
  },
  {
   "cell_type": "code",
   "execution_count": 77,
   "metadata": {},
   "outputs": [
    {
     "name": "stdout",
     "output_type": "stream",
     "text": [
      "Name: power_of_2,         \tPrior: 0.25,\tSize: 511\n",
      "Name: even,               \tPrior: 0.25,\tSize: 62750\n",
      "Name: odd,                \tPrior: 0.25,\tSize: 62500\n",
      "Name: multiples_of_3,     \tPrior: 0.12,\tSize: 41583\n",
      "Name: multiples_of_10,    \tPrior: 0.12,\tSize: 12750\n"
     ]
    }
   ],
   "source": [
    "base_concepts = [Concept('power_of_2', \n",
    "                         lambda x: 2 ** int(math.log(x,2)) == x, \n",
    "                         0.2),\n",
    "                 Concept('even',\n",
    "                         lambda x: x%2 == 0,\n",
    "                         0.2),\n",
    "                 Concept('odd',\n",
    "                         lambda x: x%2 == 1,\n",
    "                         0.2),\n",
    "                 Concept('multiples_of_3',\n",
    "                         lambda x: x%3==0,\n",
    "                         0.1),\n",
    "                 Concept('multiples_of_10',\n",
    "                         lambda x: x%10==0,\n",
    "                         0.1)\n",
    "                ]\n",
    "\n",
    "Concept.normalize_priors(base_concepts)\n",
    "for c in base_concepts: print(c)"
   ]
  },
  {
   "cell_type": "code",
   "execution_count": 71,
   "metadata": {},
   "outputs": [],
   "source": [
    "def likelihood(data, hypothesis):\n",
    "    if all([hypothesis.checker(x) for x in data]):\n",
    "        return (1/hypothesis.size)**len(data)\n",
    "    else:\n",
    "        return 0"
   ]
  },
  {
   "cell_type": "code",
   "execution_count": 72,
   "metadata": {},
   "outputs": [],
   "source": [
    "def posteriors(data, hypotheses):\n",
    "    denominator = 0\n",
    "    numerators = dict()\n",
    "    for h in hypotheses:\n",
    "        numerators[h.name] = likelihood(data, h) * h.prior\n",
    "        denominator += numerators[h.name]\n",
    "        \n",
    "    for k in numerators:\n",
    "        numerators[k] /= denominator\n",
    "        \n",
    "    return numerators"
   ]
  },
  {
   "cell_type": "code",
   "execution_count": 73,
   "metadata": {},
   "outputs": [],
   "source": [
    "def number_game(data, concepts):\n",
    "    results = posteriors(data, concepts)\n",
    "    return OrderedDict(sorted(results.items(), key=lambda t: -t[1]))"
   ]
  },
  {
   "cell_type": "code",
   "execution_count": 78,
   "metadata": {},
   "outputs": [
    {
     "data": {
      "text/plain": [
       "OrderedDict([('multiples_of_3', 0.6293147478415455),\n",
       "             ('odd', 0.37068525215845455),\n",
       "             ('power_of_2', 0.0),\n",
       "             ('even', 0.0),\n",
       "             ('multiples_of_10', 0.0)])"
      ]
     },
     "execution_count": 78,
     "metadata": {},
     "output_type": "execute_result"
    }
   ],
   "source": [
    "number_game([3,9,15], base_concepts)"
   ]
  },
  {
   "cell_type": "code",
   "execution_count": 79,
   "metadata": {},
   "outputs": [],
   "source": [
    "def MAP(data, concepts):\n",
    "    eps = 1e-9\n",
    "    func = lambda data, c: np.log(likelihood(data, c)+eps)+np.log(c.prior+eps) \n",
    "    log_posteriori = np.asarray([func(data, c) for c in concepts])\n",
    "    return concepts[np.argmax(log_posteriori)]"
   ]
  },
  {
   "cell_type": "code",
   "execution_count": 80,
   "metadata": {},
   "outputs": [
    {
     "name": "stdout",
     "output_type": "stream",
     "text": [
      "Name: odd,                \tPrior: 0.25,\tSize: 62500\n"
     ]
    }
   ],
   "source": [
    "print(MAP([3,9,15], base_concepts))"
   ]
  },
  {
   "cell_type": "code",
   "execution_count": 81,
   "metadata": {},
   "outputs": [],
   "source": [
    "def MLE(data, concepts):\n",
    "    eps = 1e-9\n",
    "    func = lambda data, c: np.log(likelihood(data, c)+eps)\n",
    "    log_likelihood = np.asarray([func(data, c) for c in concepts])\n",
    "    return concepts[np.argmax(log_likelihood)]"
   ]
  },
  {
   "cell_type": "code",
   "execution_count": 82,
   "metadata": {},
   "outputs": [
    {
     "name": "stdout",
     "output_type": "stream",
     "text": [
      "Name: multiples_of_3,     \tPrior: 0.12,\tSize: 41583\n"
     ]
    }
   ],
   "source": [
    "print(MLE([3,9,15], base_concepts))"
   ]
  },
  {
   "cell_type": "code",
   "execution_count": null,
   "metadata": {},
   "outputs": [],
   "source": []
  }
 ],
 "metadata": {
  "kernelspec": {
   "display_name": "Python 3",
   "language": "python",
   "name": "python3"
  },
  "language_info": {
   "codemirror_mode": {
    "name": "ipython",
    "version": 3
   },
   "file_extension": ".py",
   "mimetype": "text/x-python",
   "name": "python",
   "nbconvert_exporter": "python",
   "pygments_lexer": "ipython3",
   "version": "3.6.3"
  },
  "toc": {
   "nav_menu": {},
   "number_sections": true,
   "sideBar": true,
   "skip_h1_title": false,
   "toc_cell": false,
   "toc_position": {},
   "toc_section_display": "block",
   "toc_window_display": false
  }
 },
 "nbformat": 4,
 "nbformat_minor": 2
}
